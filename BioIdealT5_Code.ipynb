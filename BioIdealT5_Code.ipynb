{
  "cells": [
    {
      "cell_type": "code",
      "execution_count": null,
      "id": "08989f66",
      "metadata": {
        "id": "08989f66",
        "outputId": "955236bf-3ead-4e05-d83d-2fae261be50b"
      },
      "outputs": [
        {
          "name": "stdout",
          "output_type": "stream",
          "text": [
            "Requirement already satisfied: torch in /anaconda/envs/azureml_py38/lib/python3.8/site-packages (1.12.0)\n",
            "Requirement already satisfied: typing-extensions in /anaconda/envs/azureml_py38/lib/python3.8/site-packages (from torch) (4.6.0)\n"
          ]
        }
      ],
      "source": [
        "!pip install torch"
      ]
    },
    {
      "cell_type": "code",
      "execution_count": null,
      "id": "ff25636b",
      "metadata": {
        "id": "ff25636b",
        "outputId": "76504b1d-8a5f-4e6d-ca3e-eff4461f634c"
      },
      "outputs": [
        {
          "name": "stdout",
          "output_type": "stream",
          "text": [
            "Requirement already satisfied: transformers in /anaconda/envs/azureml_py38/lib/python3.8/site-packages (4.16.0)\n",
            "Requirement already satisfied: packaging>=20.0 in /anaconda/envs/azureml_py38/lib/python3.8/site-packages (from transformers) (23.0)\n",
            "Requirement already satisfied: sacremoses in /anaconda/envs/azureml_py38/lib/python3.8/site-packages (from transformers) (0.0.53)\n",
            "Requirement already satisfied: tokenizers!=0.11.3,>=0.10.1 in /anaconda/envs/azureml_py38/lib/python3.8/site-packages (from transformers) (0.13.3)\n",
            "Requirement already satisfied: tqdm>=4.27 in /anaconda/envs/azureml_py38/lib/python3.8/site-packages (from transformers) (4.65.0)\n",
            "Requirement already satisfied: regex!=2019.12.17 in /anaconda/envs/azureml_py38/lib/python3.8/site-packages (from transformers) (2023.5.5)\n",
            "Requirement already satisfied: numpy>=1.17 in /anaconda/envs/azureml_py38/lib/python3.8/site-packages (from transformers) (1.21.6)\n",
            "Requirement already satisfied: requests in /anaconda/envs/azureml_py38/lib/python3.8/site-packages (from transformers) (2.31.0)\n",
            "Requirement already satisfied: pyyaml>=5.1 in /anaconda/envs/azureml_py38/lib/python3.8/site-packages (from transformers) (6.0)\n",
            "Requirement already satisfied: filelock in /anaconda/envs/azureml_py38/lib/python3.8/site-packages (from transformers) (3.12.0)\n",
            "Requirement already satisfied: huggingface-hub<1.0,>=0.1.0 in /anaconda/envs/azureml_py38/lib/python3.8/site-packages (from transformers) (0.14.1)\n",
            "Requirement already satisfied: six in /anaconda/envs/azureml_py38/lib/python3.8/site-packages (from sacremoses->transformers) (1.16.0)\n",
            "Requirement already satisfied: joblib in /anaconda/envs/azureml_py38/lib/python3.8/site-packages (from sacremoses->transformers) (1.2.0)\n",
            "Requirement already satisfied: click in /anaconda/envs/azureml_py38/lib/python3.8/site-packages (from sacremoses->transformers) (8.1.3)\n",
            "Requirement already satisfied: idna<4,>=2.5 in /anaconda/envs/azureml_py38/lib/python3.8/site-packages (from requests->transformers) (3.4)\n",
            "Requirement already satisfied: charset-normalizer<4,>=2 in /anaconda/envs/azureml_py38/lib/python3.8/site-packages (from requests->transformers) (3.1.0)\n",
            "Requirement already satisfied: certifi>=2017.4.17 in /anaconda/envs/azureml_py38/lib/python3.8/site-packages (from requests->transformers) (2022.9.24)\n",
            "Requirement already satisfied: urllib3<3,>=1.21.1 in /anaconda/envs/azureml_py38/lib/python3.8/site-packages (from requests->transformers) (1.26.16)\n",
            "Requirement already satisfied: fsspec in /anaconda/envs/azureml_py38/lib/python3.8/site-packages (from huggingface-hub<1.0,>=0.1.0->transformers) (2023.5.0)\n",
            "Requirement already satisfied: typing-extensions>=3.7.4.3 in /anaconda/envs/azureml_py38/lib/python3.8/site-packages (from huggingface-hub<1.0,>=0.1.0->transformers) (4.6.0)\n",
            "Requirement already satisfied: tokenizers in /anaconda/envs/azureml_py38/lib/python3.8/site-packages (0.13.3)\n",
            "Requirement already satisfied: sentencepiece in /anaconda/envs/azureml_py38/lib/python3.8/site-packages (0.1.99)\n"
          ]
        }
      ],
      "source": [
        "!pip install transformers\n",
        "!pip install tokenizers\n",
        "!pip install sentencepiece"
      ]
    },
    {
      "cell_type": "code",
      "execution_count": null,
      "id": "6bc83109",
      "metadata": {
        "id": "6bc83109"
      },
      "outputs": [],
      "source": [
        "# Importing stock libraries\n",
        "import argparse\n",
        "import glob\n",
        "import os\n",
        "import json\n",
        "import time\n",
        "import logging\n",
        "import random\n",
        "import re\n",
        "from string import punctuation\n",
        "import numpy as np\n",
        "import pandas as pd\n",
        "import torch\n",
        "import torch.nn.functional as F\n",
        "from torch.utils.data import Dataset, DataLoader, RandomSampler, SequentialSampler\n",
        "\n",
        "import textwrap"
      ]
    },
    {
      "cell_type": "code",
      "execution_count": null,
      "id": "1380153d",
      "metadata": {
        "id": "1380153d",
        "outputId": "23b5f4d6-2dd7-4f27-9c0c-f4e2e198f8c7"
      },
      "outputs": [
        {
          "name": "stderr",
          "output_type": "stream",
          "text": [
            "2023-12-20 08:40:28.262373: I tensorflow/core/platform/cpu_feature_guard.cc:193] This TensorFlow binary is optimized with oneAPI Deep Neural Network Library (oneDNN) to use the following CPU instructions in performance-critical operations:  AVX2 AVX512F AVX512_VNNI FMA\n",
            "To enable them in other operations, rebuild TensorFlow with the appropriate compiler flags.\n",
            "2023-12-20 08:40:30.723954: I tensorflow/core/util/port.cc:104] oneDNN custom operations are on. You may see slightly different numerical results due to floating-point round-off errors from different computation orders. To turn them off, set the environment variable `TF_ENABLE_ONEDNN_OPTS=0`.\n",
            "2023-12-20 08:40:31.409204: W tensorflow/compiler/xla/stream_executor/platform/default/dso_loader.cc:64] Could not load dynamic library 'libcudart.so.11.0'; dlerror: libcudart.so.11.0: cannot open shared object file: No such file or directory\n",
            "2023-12-20 08:40:31.409227: I tensorflow/compiler/xla/stream_executor/cuda/cudart_stub.cc:29] Ignore above cudart dlerror if you do not have a GPU set up on your machine.\n",
            "2023-12-20 08:40:37.313121: W tensorflow/compiler/xla/stream_executor/platform/default/dso_loader.cc:64] Could not load dynamic library 'libnvinfer.so.7'; dlerror: libnvinfer.so.7: cannot open shared object file: No such file or directory\n",
            "2023-12-20 08:40:37.313227: W tensorflow/compiler/xla/stream_executor/platform/default/dso_loader.cc:64] Could not load dynamic library 'libnvinfer_plugin.so.7'; dlerror: libnvinfer_plugin.so.7: cannot open shared object file: No such file or directory\n",
            "2023-12-20 08:40:37.313235: W tensorflow/compiler/tf2tensorrt/utils/py_utils.cc:38] TF-TRT Warning: Cannot dlopen some TensorRT libraries. If you would like to use Nvidia GPU with TensorRT, please make sure the missing libraries mentioned above are installed properly.\n",
            "/anaconda/envs/azureml_py38/lib/python3.8/site-packages/transformers/optimization.py:306: FutureWarning: This implementation of AdamW is deprecated and will be removed in a future version. Use thePyTorch implementation torch.optim.AdamW instead, or set `no_deprecation_warning=True` to disable this warning\n",
            "  warnings.warn(\n",
            "***** Running training *****\n",
            "  Num examples = 4234\n",
            "  Num Epochs = 1\n",
            "  Instantaneous batch size per device = 1\n",
            "  Total train batch size (w. parallel, distributed & accumulation) = 16\n",
            "  Gradient Accumulation steps = 16\n",
            "  Total optimization steps = 264\n"
          ]
        },
        {
          "data": {
            "text/html": [
              "\n",
              "    <div>\n",
              "      \n",
              "      <progress value='264' max='264' style='width:300px; height:20px; vertical-align: middle;'></progress>\n",
              "      [264/264 10:05:49, Epoch 0/1]\n",
              "    </div>\n",
              "    <table border=\"1\" class=\"dataframe\">\n",
              "  <thead>\n",
              " <tr style=\"text-align: left;\">\n",
              "      <th>Step</th>\n",
              "      <th>Training Loss</th>\n",
              "      <th>Validation Loss</th>\n",
              "    </tr>\n",
              "  </thead>\n",
              "  <tbody>\n",
              "  </tbody>\n",
              "</table><p>"
            ],
            "text/plain": [
              "<IPython.core.display.HTML object>"
            ]
          },
          "metadata": {},
          "output_type": "display_data"
        },
        {
          "name": "stdout",
          "output_type": "stream",
          "text": [
            "Attempted to log scalar metric loss:\n",
            "0.8663\n",
            "Attempted to log scalar metric learning_rate:\n",
            "1.0000000000000002e-06\n",
            "Attempted to log scalar metric epoch:\n",
            "0.04\n",
            "Attempted to log scalar metric loss:\n",
            "0.7628\n",
            "Attempted to log scalar metric learning_rate:\n",
            "2.0000000000000003e-06\n",
            "Attempted to log scalar metric epoch:\n",
            "0.08\n",
            "Attempted to log scalar metric loss:\n",
            "0.7198\n",
            "Attempted to log scalar metric learning_rate:\n",
            "3e-06\n",
            "Attempted to log scalar metric epoch:\n",
            "0.11\n",
            "Attempted to log scalar metric loss:\n",
            "0.7139\n",
            "Attempted to log scalar metric learning_rate:\n",
            "4.000000000000001e-06\n",
            "Attempted to log scalar metric epoch:\n",
            "0.15\n",
            "Attempted to log scalar metric loss:\n",
            "0.7648\n",
            "Attempted to log scalar metric learning_rate:\n",
            "5e-06\n",
            "Attempted to log scalar metric epoch:\n",
            "0.19\n",
            "Attempted to log scalar metric loss:\n",
            "0.7066\n",
            "Attempted to log scalar metric learning_rate:\n",
            "6e-06\n",
            "Attempted to log scalar metric epoch:\n",
            "0.23\n",
            "Attempted to log scalar metric loss:\n",
            "0.7338\n",
            "Attempted to log scalar metric learning_rate:\n",
            "7.000000000000001e-06\n",
            "Attempted to log scalar metric epoch:\n",
            "0.26\n",
            "Attempted to log scalar metric loss:\n",
            "0.772\n",
            "Attempted to log scalar metric learning_rate:\n",
            "8.000000000000001e-06\n",
            "Attempted to log scalar metric epoch:\n",
            "0.3\n",
            "Attempted to log scalar metric loss:\n",
            "0.6296\n",
            "Attempted to log scalar metric learning_rate:\n",
            "9e-06\n",
            "Attempted to log scalar metric epoch:\n",
            "0.34\n",
            "Attempted to log scalar metric loss:\n",
            "0.8015\n",
            "Attempted to log scalar metric learning_rate:\n",
            "1e-05\n",
            "Attempted to log scalar metric epoch:\n",
            "0.38\n",
            "Attempted to log scalar metric loss:\n",
            "0.7394\n",
            "Attempted to log scalar metric learning_rate:\n",
            "1.1000000000000001e-05\n",
            "Attempted to log scalar metric epoch:\n",
            "0.42\n",
            "Attempted to log scalar metric loss:\n",
            "0.5928\n",
            "Attempted to log scalar metric learning_rate:\n",
            "1.2e-05\n",
            "Attempted to log scalar metric epoch:\n",
            "0.45\n",
            "Attempted to log scalar metric loss:\n",
            "0.6888\n",
            "Attempted to log scalar metric learning_rate:\n",
            "1.3000000000000001e-05\n",
            "Attempted to log scalar metric epoch:\n",
            "0.49\n",
            "Attempted to log scalar metric loss:\n",
            "0.5645\n",
            "Attempted to log scalar metric learning_rate:\n",
            "1.4000000000000001e-05\n",
            "Attempted to log scalar metric epoch:\n",
            "0.53\n",
            "Attempted to log scalar metric loss:\n",
            "0.6342\n",
            "Attempted to log scalar metric learning_rate:\n",
            "1.5e-05\n",
            "Attempted to log scalar metric epoch:\n",
            "0.57\n",
            "Attempted to log scalar metric loss:\n",
            "0.6413\n",
            "Attempted to log scalar metric learning_rate:\n",
            "1.6000000000000003e-05\n",
            "Attempted to log scalar metric epoch:\n",
            "0.6\n",
            "Attempted to log scalar metric loss:\n",
            "0.5622\n",
            "Attempted to log scalar metric learning_rate:\n",
            "1.7000000000000003e-05\n",
            "Attempted to log scalar metric epoch:\n",
            "0.64\n",
            "Attempted to log scalar metric loss:\n",
            "0.6201\n",
            "Attempted to log scalar metric learning_rate:\n",
            "1.8e-05\n",
            "Attempted to log scalar metric epoch:\n",
            "0.68\n",
            "Attempted to log scalar metric loss:\n",
            "0.6352\n",
            "Attempted to log scalar metric learning_rate:\n",
            "1.9e-05\n",
            "Attempted to log scalar metric epoch:\n",
            "0.72\n",
            "Attempted to log scalar metric loss:\n",
            "0.6458\n",
            "Attempted to log scalar metric learning_rate:\n",
            "2e-05\n",
            "Attempted to log scalar metric epoch:\n",
            "0.76\n",
            "Attempted to log scalar metric loss:\n",
            "0.4967\n",
            "Attempted to log scalar metric learning_rate:\n",
            "2.1e-05\n",
            "Attempted to log scalar metric epoch:\n",
            "0.79\n",
            "Attempted to log scalar metric loss:\n",
            "0.5204\n",
            "Attempted to log scalar metric learning_rate:\n",
            "2.2000000000000003e-05\n",
            "Attempted to log scalar metric epoch:\n",
            "0.83\n",
            "Attempted to log scalar metric loss:\n",
            "0.584\n",
            "Attempted to log scalar metric learning_rate:\n",
            "2.3000000000000003e-05\n",
            "Attempted to log scalar metric epoch:\n",
            "0.87\n",
            "Attempted to log scalar metric loss:\n",
            "0.5505\n",
            "Attempted to log scalar metric learning_rate:\n",
            "2.4e-05\n",
            "Attempted to log scalar metric epoch:\n",
            "0.91\n",
            "Attempted to log scalar metric loss:\n",
            "0.48\n",
            "Attempted to log scalar metric learning_rate:\n",
            "2.5e-05\n",
            "Attempted to log scalar metric epoch:\n",
            "0.94\n",
            "Attempted to log scalar metric loss:\n",
            "0.5213\n",
            "Attempted to log scalar metric learning_rate:\n",
            "2.6000000000000002e-05\n",
            "Attempted to log scalar metric epoch:\n",
            "0.98\n"
          ]
        },
        {
          "name": "stderr",
          "output_type": "stream",
          "text": [
            "\n",
            "\n",
            "Training completed. Do not forget to share your model on huggingface.co/models =)\n",
            "\n",
            "\n"
          ]
        },
        {
          "name": "stdout",
          "output_type": "stream",
          "text": [
            "Attempted to log scalar metric train_runtime:\n",
            "36390.6959\n",
            "Attempted to log scalar metric train_samples_per_second:\n",
            "0.116\n",
            "Attempted to log scalar metric train_steps_per_second:\n",
            "0.007\n",
            "Attempted to log scalar metric total_flos:\n",
            "1.0309834746630144e+16\n",
            "Attempted to log scalar metric train_loss:\n",
            "0.6508506301677588\n",
            "Attempted to log scalar metric epoch:\n",
            "1.0\n"
          ]
        },
        {
          "name": "stderr",
          "output_type": "stream",
          "text": [
            "Saving model checkpoint to T5_BIO2\n",
            "Configuration saved in T5_BIO2/config.json\n",
            "Model weights saved in T5_BIO2/pytorch_model.bin\n",
            "tokenizer config file saved in T5_BIO2/tokenizer_config.json\n",
            "Special tokens file saved in T5_BIO2/special_tokens_map.json\n"
          ]
        }
      ],
      "source": [
        "from transformers import T5ForConditionalGeneration, T5Tokenizer\n",
        "from transformers import DataCollatorForSeq2Seq\n",
        "from transformers import TrainingArguments, Trainer\n",
        "import json\n",
        "import pandas as pd\n",
        "\n",
        "# Load pre-trained T5 model and tokenizer\n",
        "model_name = \"T5_BIO\"  # Use the name you saved the model with\n",
        "model = T5ForConditionalGeneration.from_pretrained(model_name)\n",
        "tokenizer = T5Tokenizer.from_pretrained(model_name)\n",
        "\n",
        "# Load your training data\n",
        "file_path = 'Users/21001279007/training10b.json'  # Replace with the actual path to your JSON file\n",
        "with open(file_path, 'r') as json_file:\n",
        "    json_data = json.load(json_file)\n",
        "\n",
        "questions_list = []\n",
        "for question in json_data['questions']:\n",
        "    question_text = question['body']\n",
        "    ideal_answer = question['ideal_answer'][0]\n",
        "\n",
        "    context = \"\"\n",
        "    for snippet in question['snippets']:\n",
        "        snippet_text = snippet['text']\n",
        "        context += snippet_text + \" \"\n",
        "\n",
        "    questions_list.append({\n",
        "        'Ideal_Answer': ideal_answer,\n",
        "        'Combined_Text': question_text + ' ' + context.strip()\n",
        "    })\n",
        "\n",
        "# Convert the list of dictionaries into a DataFrame\n",
        "df = pd.DataFrame(questions_list)\n",
        "\n",
        "def convert_examples_to_features(batch):\n",
        "    input_encodings = tokenizer(batch['Combined_Text'], max_length=1024, truncation=True)\n",
        "    with tokenizer.as_target_tokenizer():\n",
        "        target_encodings = tokenizer(batch['Ideal_Answer'], max_length=1024, truncation=True)\n",
        "\n",
        "    return {\n",
        "        'input_ids': input_encodings['input_ids'],\n",
        "        'attention_mask': input_encodings['attention_mask'],\n",
        "        'labels': target_encodings['input_ids']\n",
        "    }\n",
        "\n",
        "# Apply the convert_examples_to_features function to each row\n",
        "dataset_pt = df.apply(convert_examples_to_features, axis=1)\n",
        "\n",
        "# Convert the result into a list of dictionaries\n",
        "dataset_pt = dataset_pt.to_list()\n",
        "\n",
        "# Define the data collator for seq2seq\n",
        "seq2seq_data_collator = DataCollatorForSeq2Seq(tokenizer, model=model)\n",
        "\n",
        "# Define training arguments for additional 2 epochs\n",
        "trainer_args = TrainingArguments(\n",
        "    output_dir='BIO_T5_Large2',  # Use the same output directory\n",
        "    num_train_epochs=1,  # Train for 2 more epochs\n",
        "    warmup_steps=500,\n",
        "    per_device_train_batch_size=1,\n",
        "    weight_decay=0.01,\n",
        "    logging_steps=10,\n",
        "    evaluation_strategy='steps',\n",
        "    eval_steps=500,\n",
        "    save_steps=1e6,\n",
        "    gradient_accumulation_steps=16\n",
        ")\n",
        "\n",
        "# Create the Trainer instance with your model and new training arguments\n",
        "trainer = Trainer(\n",
        "    model=model,\n",
        "    args=trainer_args,\n",
        "    tokenizer=tokenizer,\n",
        "    train_dataset=dataset_pt,\n",
        "    data_collator=seq2seq_data_collator,\n",
        ")\n",
        "\n",
        "# Fine-tune for 2 more epochs\n",
        "trainer.train()\n",
        "\n",
        "# Save the updated model\n",
        "trainer.save_model('T5_BIO2')\n"
      ]
    },
    {
      "cell_type": "code",
      "execution_count": null,
      "id": "fc9757df",
      "metadata": {
        "id": "fc9757df",
        "outputId": "398a8b7c-1839-4ce9-9ac3-721faebd2068"
      },
      "outputs": [
        {
          "name": "stderr",
          "output_type": "stream",
          "text": [
            "loading configuration file T5_BIO2/config.json\n",
            "Model config T5Config {\n",
            "  \"_name_or_path\": \"T5_BIO2\",\n",
            "  \"architectures\": [\n",
            "    \"T5ForConditionalGeneration\"\n",
            "  ],\n",
            "  \"d_ff\": 2816,\n",
            "  \"d_kv\": 64,\n",
            "  \"d_model\": 1024,\n",
            "  \"decoder_start_token_id\": 0,\n",
            "  \"dropout_rate\": 0.1,\n",
            "  \"eos_token_id\": 1,\n",
            "  \"feed_forward_proj\": \"gated-gelu\",\n",
            "  \"initializer_factor\": 1.0,\n",
            "  \"is_encoder_decoder\": true,\n",
            "  \"layer_norm_epsilon\": 1e-06,\n",
            "  \"model_type\": \"t5\",\n",
            "  \"n_positions\": 512,\n",
            "  \"num_decoder_layers\": 24,\n",
            "  \"num_heads\": 16,\n",
            "  \"num_layers\": 24,\n",
            "  \"output_past\": true,\n",
            "  \"pad_token_id\": 0,\n",
            "  \"relative_attention_max_distance\": 128,\n",
            "  \"relative_attention_num_buckets\": 32,\n",
            "  \"tie_word_embeddings\": false,\n",
            "  \"torch_dtype\": \"float32\",\n",
            "  \"transformers_version\": \"4.16.0\",\n",
            "  \"use_cache\": true,\n",
            "  \"vocab_size\": 32128\n",
            "}\n",
            "\n",
            "loading configuration file T5_BIO2/config.json\n",
            "Model config T5Config {\n",
            "  \"_name_or_path\": \"T5_BIO2\",\n",
            "  \"architectures\": [\n",
            "    \"T5ForConditionalGeneration\"\n",
            "  ],\n",
            "  \"d_ff\": 2816,\n",
            "  \"d_kv\": 64,\n",
            "  \"d_model\": 1024,\n",
            "  \"decoder_start_token_id\": 0,\n",
            "  \"dropout_rate\": 0.1,\n",
            "  \"eos_token_id\": 1,\n",
            "  \"feed_forward_proj\": \"gated-gelu\",\n",
            "  \"initializer_factor\": 1.0,\n",
            "  \"is_encoder_decoder\": true,\n",
            "  \"layer_norm_epsilon\": 1e-06,\n",
            "  \"model_type\": \"t5\",\n",
            "  \"n_positions\": 512,\n",
            "  \"num_decoder_layers\": 24,\n",
            "  \"num_heads\": 16,\n",
            "  \"num_layers\": 24,\n",
            "  \"output_past\": true,\n",
            "  \"pad_token_id\": 0,\n",
            "  \"relative_attention_max_distance\": 128,\n",
            "  \"relative_attention_num_buckets\": 32,\n",
            "  \"tie_word_embeddings\": false,\n",
            "  \"torch_dtype\": \"float32\",\n",
            "  \"transformers_version\": \"4.16.0\",\n",
            "  \"use_cache\": true,\n",
            "  \"vocab_size\": 32128\n",
            "}\n",
            "\n",
            "loading weights file T5_BIO2/pytorch_model.bin\n",
            "All model checkpoint weights were used when initializing T5ForConditionalGeneration.\n",
            "\n",
            "All the weights of T5ForConditionalGeneration were initialized from the model checkpoint at T5_BIO2.\n",
            "If your task is similar to the task the model of the checkpoint was trained on, you can already use T5ForConditionalGeneration for predictions without further training.\n",
            "Didn't find file T5_BIO2/tokenizer.json. We won't load it.\n",
            "Didn't find file T5_BIO2/added_tokens.json. We won't load it.\n",
            "loading file T5_BIO2/spiece.model\n",
            "loading file None\n",
            "loading file None\n",
            "loading file T5_BIO2/special_tokens_map.json\n",
            "loading file T5_BIO2/tokenizer_config.json\n",
            "Your max_length is set to 1024, but you input_length is only 410. You might consider decreasing max_length manually, e.g. summarizer('...', max_length=205)\n",
            "Your max_length is set to 1024, but you input_length is only 125. You might consider decreasing max_length manually, e.g. summarizer('...', max_length=62)\n"
          ]
        },
        {
          "name": "stdout",
          "output_type": "stream",
          "text": [
            "Generated summary for Question Number 1 saved to system6(2)/task1_englishSyssum1.txt\n"
          ]
        },
        {
          "name": "stderr",
          "output_type": "stream",
          "text": [
            "Your max_length is set to 1024, but you input_length is only 158. You might consider decreasing max_length manually, e.g. summarizer('...', max_length=79)\n"
          ]
        },
        {
          "name": "stdout",
          "output_type": "stream",
          "text": [
            "Generated summary for Question Number 2 saved to system6(2)/task2_englishSyssum2.txt\n"
          ]
        },
        {
          "name": "stderr",
          "output_type": "stream",
          "text": [
            "Your max_length is set to 1024, but you input_length is only 345. You might consider decreasing max_length manually, e.g. summarizer('...', max_length=172)\n"
          ]
        },
        {
          "name": "stdout",
          "output_type": "stream",
          "text": [
            "Generated summary for Question Number 3 saved to system6(2)/task3_englishSyssum3.txt\n"
          ]
        },
        {
          "name": "stderr",
          "output_type": "stream",
          "text": [
            "Your max_length is set to 1024, but you input_length is only 512. You might consider decreasing max_length manually, e.g. summarizer('...', max_length=256)\n"
          ]
        },
        {
          "name": "stdout",
          "output_type": "stream",
          "text": [
            "Generated summary for Question Number 4 saved to system6(2)/task4_englishSyssum4.txt\n"
          ]
        },
        {
          "name": "stderr",
          "output_type": "stream",
          "text": [
            "Your max_length is set to 1024, but you input_length is only 96. You might consider decreasing max_length manually, e.g. summarizer('...', max_length=48)\n"
          ]
        },
        {
          "name": "stdout",
          "output_type": "stream",
          "text": [
            "Generated summary for Question Number 5 saved to system6(2)/task5_englishSyssum5.txt\n"
          ]
        },
        {
          "name": "stderr",
          "output_type": "stream",
          "text": [
            "Your max_length is set to 1024, but you input_length is only 248. You might consider decreasing max_length manually, e.g. summarizer('...', max_length=124)\n"
          ]
        },
        {
          "name": "stdout",
          "output_type": "stream",
          "text": [
            "Generated summary for Question Number 6 saved to system6(2)/task6_englishSyssum6.txt\n"
          ]
        },
        {
          "name": "stderr",
          "output_type": "stream",
          "text": [
            "Your max_length is set to 1024, but you input_length is only 365. You might consider decreasing max_length manually, e.g. summarizer('...', max_length=182)\n"
          ]
        },
        {
          "name": "stdout",
          "output_type": "stream",
          "text": [
            "Generated summary for Question Number 7 saved to system6(2)/task7_englishSyssum7.txt\n"
          ]
        },
        {
          "name": "stderr",
          "output_type": "stream",
          "text": [
            "Your max_length is set to 1024, but you input_length is only 512. You might consider decreasing max_length manually, e.g. summarizer('...', max_length=256)\n"
          ]
        },
        {
          "name": "stdout",
          "output_type": "stream",
          "text": [
            "Generated summary for Question Number 8 saved to system6(2)/task8_englishSyssum8.txt\n"
          ]
        },
        {
          "name": "stderr",
          "output_type": "stream",
          "text": [
            "Your max_length is set to 1024, but you input_length is only 49. You might consider decreasing max_length manually, e.g. summarizer('...', max_length=24)\n"
          ]
        },
        {
          "name": "stdout",
          "output_type": "stream",
          "text": [
            "Generated summary for Question Number 9 saved to system6(2)/task9_englishSyssum9.txt\n"
          ]
        },
        {
          "name": "stderr",
          "output_type": "stream",
          "text": [
            "Your max_length is set to 1024, but you input_length is only 512. You might consider decreasing max_length manually, e.g. summarizer('...', max_length=256)\n"
          ]
        },
        {
          "name": "stdout",
          "output_type": "stream",
          "text": [
            "Generated summary for Question Number 10 saved to system6(2)/task10_englishSyssum10.txt\n"
          ]
        },
        {
          "name": "stderr",
          "output_type": "stream",
          "text": [
            "Your max_length is set to 1024, but you input_length is only 512. You might consider decreasing max_length manually, e.g. summarizer('...', max_length=256)\n"
          ]
        },
        {
          "name": "stdout",
          "output_type": "stream",
          "text": [
            "Generated summary for Question Number 11 saved to system6(2)/task11_englishSyssum11.txt\n"
          ]
        },
        {
          "name": "stderr",
          "output_type": "stream",
          "text": [
            "Your max_length is set to 1024, but you input_length is only 512. You might consider decreasing max_length manually, e.g. summarizer('...', max_length=256)\n"
          ]
        },
        {
          "name": "stdout",
          "output_type": "stream",
          "text": [
            "Generated summary for Question Number 12 saved to system6(2)/task12_englishSyssum12.txt\n"
          ]
        },
        {
          "name": "stderr",
          "output_type": "stream",
          "text": [
            "Your max_length is set to 1024, but you input_length is only 335. You might consider decreasing max_length manually, e.g. summarizer('...', max_length=167)\n"
          ]
        },
        {
          "name": "stdout",
          "output_type": "stream",
          "text": [
            "Generated summary for Question Number 13 saved to system6(2)/task13_englishSyssum13.txt\n"
          ]
        },
        {
          "name": "stderr",
          "output_type": "stream",
          "text": [
            "Your max_length is set to 1024, but you input_length is only 512. You might consider decreasing max_length manually, e.g. summarizer('...', max_length=256)\n"
          ]
        },
        {
          "name": "stdout",
          "output_type": "stream",
          "text": [
            "Generated summary for Question Number 14 saved to system6(2)/task14_englishSyssum14.txt\n"
          ]
        },
        {
          "name": "stderr",
          "output_type": "stream",
          "text": [
            "Your max_length is set to 1024, but you input_length is only 512. You might consider decreasing max_length manually, e.g. summarizer('...', max_length=256)\n"
          ]
        },
        {
          "name": "stdout",
          "output_type": "stream",
          "text": [
            "Generated summary for Question Number 15 saved to system6(2)/task15_englishSyssum15.txt\n"
          ]
        },
        {
          "name": "stderr",
          "output_type": "stream",
          "text": [
            "Your max_length is set to 1024, but you input_length is only 164. You might consider decreasing max_length manually, e.g. summarizer('...', max_length=82)\n"
          ]
        },
        {
          "name": "stdout",
          "output_type": "stream",
          "text": [
            "Generated summary for Question Number 16 saved to system6(2)/task16_englishSyssum16.txt\n"
          ]
        },
        {
          "name": "stderr",
          "output_type": "stream",
          "text": [
            "Your max_length is set to 1024, but you input_length is only 512. You might consider decreasing max_length manually, e.g. summarizer('...', max_length=256)\n"
          ]
        },
        {
          "name": "stdout",
          "output_type": "stream",
          "text": [
            "Generated summary for Question Number 17 saved to system6(2)/task17_englishSyssum17.txt\n"
          ]
        },
        {
          "name": "stderr",
          "output_type": "stream",
          "text": [
            "Your max_length is set to 1024, but you input_length is only 323. You might consider decreasing max_length manually, e.g. summarizer('...', max_length=161)\n"
          ]
        },
        {
          "name": "stdout",
          "output_type": "stream",
          "text": [
            "Generated summary for Question Number 18 saved to system6(2)/task18_englishSyssum18.txt\n"
          ]
        },
        {
          "name": "stderr",
          "output_type": "stream",
          "text": [
            "Your max_length is set to 1024, but you input_length is only 512. You might consider decreasing max_length manually, e.g. summarizer('...', max_length=256)\n"
          ]
        },
        {
          "name": "stdout",
          "output_type": "stream",
          "text": [
            "Generated summary for Question Number 19 saved to system6(2)/task19_englishSyssum19.txt\n"
          ]
        },
        {
          "name": "stderr",
          "output_type": "stream",
          "text": [
            "Your max_length is set to 1024, but you input_length is only 512. You might consider decreasing max_length manually, e.g. summarizer('...', max_length=256)\n"
          ]
        },
        {
          "name": "stdout",
          "output_type": "stream",
          "text": [
            "Generated summary for Question Number 20 saved to system6(2)/task20_englishSyssum20.txt\n"
          ]
        },
        {
          "name": "stderr",
          "output_type": "stream",
          "text": [
            "Your max_length is set to 1024, but you input_length is only 512. You might consider decreasing max_length manually, e.g. summarizer('...', max_length=256)\n"
          ]
        },
        {
          "name": "stdout",
          "output_type": "stream",
          "text": [
            "Generated summary for Question Number 21 saved to system6(2)/task21_englishSyssum21.txt\n"
          ]
        },
        {
          "name": "stderr",
          "output_type": "stream",
          "text": [
            "Your max_length is set to 1024, but you input_length is only 512. You might consider decreasing max_length manually, e.g. summarizer('...', max_length=256)\n"
          ]
        },
        {
          "name": "stdout",
          "output_type": "stream",
          "text": [
            "Generated summary for Question Number 22 saved to system6(2)/task22_englishSyssum22.txt\n"
          ]
        },
        {
          "name": "stderr",
          "output_type": "stream",
          "text": [
            "Your max_length is set to 1024, but you input_length is only 512. You might consider decreasing max_length manually, e.g. summarizer('...', max_length=256)\n"
          ]
        },
        {
          "name": "stdout",
          "output_type": "stream",
          "text": [
            "Generated summary for Question Number 23 saved to system6(2)/task23_englishSyssum23.txt\n"
          ]
        },
        {
          "name": "stderr",
          "output_type": "stream",
          "text": [
            "Your max_length is set to 1024, but you input_length is only 512. You might consider decreasing max_length manually, e.g. summarizer('...', max_length=256)\n"
          ]
        },
        {
          "name": "stdout",
          "output_type": "stream",
          "text": [
            "Generated summary for Question Number 24 saved to system6(2)/task24_englishSyssum24.txt\n"
          ]
        },
        {
          "name": "stderr",
          "output_type": "stream",
          "text": [
            "Your max_length is set to 1024, but you input_length is only 512. You might consider decreasing max_length manually, e.g. summarizer('...', max_length=256)\n"
          ]
        },
        {
          "name": "stdout",
          "output_type": "stream",
          "text": [
            "Generated summary for Question Number 25 saved to system6(2)/task25_englishSyssum25.txt\n"
          ]
        },
        {
          "name": "stderr",
          "output_type": "stream",
          "text": [
            "Your max_length is set to 1024, but you input_length is only 512. You might consider decreasing max_length manually, e.g. summarizer('...', max_length=256)\n"
          ]
        },
        {
          "name": "stdout",
          "output_type": "stream",
          "text": [
            "Generated summary for Question Number 26 saved to system6(2)/task26_englishSyssum26.txt\n"
          ]
        },
        {
          "name": "stderr",
          "output_type": "stream",
          "text": [
            "Your max_length is set to 1024, but you input_length is only 512. You might consider decreasing max_length manually, e.g. summarizer('...', max_length=256)\n"
          ]
        },
        {
          "name": "stdout",
          "output_type": "stream",
          "text": [
            "Generated summary for Question Number 27 saved to system6(2)/task27_englishSyssum27.txt\n"
          ]
        },
        {
          "name": "stderr",
          "output_type": "stream",
          "text": [
            "Your max_length is set to 1024, but you input_length is only 349. You might consider decreasing max_length manually, e.g. summarizer('...', max_length=174)\n"
          ]
        },
        {
          "name": "stdout",
          "output_type": "stream",
          "text": [
            "Generated summary for Question Number 28 saved to system6(2)/task28_englishSyssum28.txt\n"
          ]
        },
        {
          "name": "stderr",
          "output_type": "stream",
          "text": [
            "Your max_length is set to 1024, but you input_length is only 512. You might consider decreasing max_length manually, e.g. summarizer('...', max_length=256)\n"
          ]
        },
        {
          "name": "stdout",
          "output_type": "stream",
          "text": [
            "Generated summary for Question Number 29 saved to system6(2)/task29_englishSyssum29.txt\n"
          ]
        },
        {
          "name": "stderr",
          "output_type": "stream",
          "text": [
            "Your max_length is set to 1024, but you input_length is only 512. You might consider decreasing max_length manually, e.g. summarizer('...', max_length=256)\n"
          ]
        },
        {
          "name": "stdout",
          "output_type": "stream",
          "text": [
            "Generated summary for Question Number 30 saved to system6(2)/task30_englishSyssum30.txt\n"
          ]
        },
        {
          "name": "stderr",
          "output_type": "stream",
          "text": [
            "Your max_length is set to 1024, but you input_length is only 512. You might consider decreasing max_length manually, e.g. summarizer('...', max_length=256)\n"
          ]
        },
        {
          "name": "stdout",
          "output_type": "stream",
          "text": [
            "Generated summary for Question Number 31 saved to system6(2)/task31_englishSyssum31.txt\n"
          ]
        },
        {
          "name": "stderr",
          "output_type": "stream",
          "text": [
            "Your max_length is set to 1024, but you input_length is only 295. You might consider decreasing max_length manually, e.g. summarizer('...', max_length=147)\n"
          ]
        },
        {
          "name": "stdout",
          "output_type": "stream",
          "text": [
            "Generated summary for Question Number 32 saved to system6(2)/task32_englishSyssum32.txt\n"
          ]
        },
        {
          "name": "stderr",
          "output_type": "stream",
          "text": [
            "Your max_length is set to 1024, but you input_length is only 512. You might consider decreasing max_length manually, e.g. summarizer('...', max_length=256)\n"
          ]
        },
        {
          "name": "stdout",
          "output_type": "stream",
          "text": [
            "Generated summary for Question Number 33 saved to system6(2)/task33_englishSyssum33.txt\n"
          ]
        },
        {
          "name": "stderr",
          "output_type": "stream",
          "text": [
            "Your max_length is set to 1024, but you input_length is only 512. You might consider decreasing max_length manually, e.g. summarizer('...', max_length=256)\n"
          ]
        },
        {
          "name": "stdout",
          "output_type": "stream",
          "text": [
            "Generated summary for Question Number 34 saved to system6(2)/task34_englishSyssum34.txt\n"
          ]
        },
        {
          "name": "stderr",
          "output_type": "stream",
          "text": [
            "Your max_length is set to 1024, but you input_length is only 512. You might consider decreasing max_length manually, e.g. summarizer('...', max_length=256)\n"
          ]
        },
        {
          "name": "stdout",
          "output_type": "stream",
          "text": [
            "Generated summary for Question Number 35 saved to system6(2)/task35_englishSyssum35.txt\n"
          ]
        },
        {
          "name": "stderr",
          "output_type": "stream",
          "text": [
            "Your max_length is set to 1024, but you input_length is only 512. You might consider decreasing max_length manually, e.g. summarizer('...', max_length=256)\n"
          ]
        },
        {
          "name": "stdout",
          "output_type": "stream",
          "text": [
            "Generated summary for Question Number 36 saved to system6(2)/task36_englishSyssum36.txt\n",
            "Generated summary for Question Number 37 saved to system6(2)/task37_englishSyssum37.txt\n"
          ]
        }
      ],
      "source": [
        "from transformers import pipeline\n",
        "import json\n",
        "import pandas as pd\n",
        "import os\n",
        "\n",
        "# Create a summarization pipeline\n",
        "pipe = pipeline('summarization', model='T5_BIO2')\n",
        "\n",
        "gen_kwargs = {'length_penalty': 0.10, 'num_beams': 8, 'max_length': 1024, 'truncation': True}\n",
        "\n",
        "# Specify the output folder\n",
        "output_folder = 'system6(2)'\n",
        "os.makedirs(output_folder, exist_ok=True)\n",
        "\n",
        "# Open and read the JSON file\n",
        "file_path = '10B6_golden.json'  # Replace with the actual path to your JSON file\n",
        "with open(file_path, 'r') as json_file:\n",
        "    json_data = json.load(json_file)\n",
        "\n",
        "questions_list = []\n",
        "\n",
        "# Extract data from the JSON and create a list of dictionaries\n",
        "for index, question in enumerate(json_data['questions'], start=1):\n",
        "    question_text = question['body']\n",
        "    ideal_answer = question['ideal_answer'][0]\n",
        "\n",
        "    context = \"\"\n",
        "    for snippet in question['snippets']:\n",
        "        snippet_text = snippet['text']\n",
        "        context += snippet_text + \" \"\n",
        "\n",
        "    questions_list.append({\n",
        "        'Question_Number': index,\n",
        "        'Ideal_Answer': ideal_answer,\n",
        "        'Combined_Text': question_text + ' ' + context.strip()\n",
        "    })\n",
        "\n",
        "# Convert the list of dictionaries into a DataFrame\n",
        "df = pd.DataFrame(questions_list)\n",
        "\n",
        "# Loop through the DataFrame\n",
        "for index, row in df.iterrows():\n",
        "    question_number = row['Question_Number']\n",
        "    question_text = row['Combined_Text']\n",
        "\n",
        "    generated_summary = pipe(question_text, **gen_kwargs)[0]['summary_text']\n",
        "\n",
        "    # Save the generated summary to a separate file\n",
        "    output_file_path = f\"{output_folder}/task{question_number}_englishSyssum{question_number}.txt\"\n",
        "    with open(output_file_path, 'w') as output_file:\n",
        "        output_file.write(generated_summary)\n",
        "\n",
        "    print(f\"Generated summary for Question Number {question_number} saved to {output_file_path}\")\n"
      ]
    },
    {
      "cell_type": "code",
      "execution_count": null,
      "id": "4943e024",
      "metadata": {
        "id": "4943e024",
        "outputId": "21e0a8d1-4d4a-4f7c-eca8-55e85d55fca3"
      },
      "outputs": [
        {
          "name": "stdout",
          "output_type": "stream",
          "text": [
            "Folder 'system6(2)' has been zipped.\n"
          ]
        }
      ],
      "source": [
        "import shutil\n",
        "\n",
        "# Zip the 'system' folder\n",
        "shutil.make_archive('system6_2', 'zip', 'system6(2)')\n",
        "\n",
        "print(\"Folder 'system6(2)' has been zipped.\")"
      ]
    },
    {
      "cell_type": "code",
      "execution_count": null,
      "id": "5d923af9",
      "metadata": {
        "id": "5d923af9",
        "outputId": "e8c7d4c3-756a-475c-f0cf-4b470759bd42"
      },
      "outputs": [
        {
          "name": "stderr",
          "output_type": "stream",
          "text": [
            "loading configuration file T5_BIO2/config.json\n",
            "Model config T5Config {\n",
            "  \"_name_or_path\": \"T5_BIO2\",\n",
            "  \"architectures\": [\n",
            "    \"T5ForConditionalGeneration\"\n",
            "  ],\n",
            "  \"d_ff\": 2816,\n",
            "  \"d_kv\": 64,\n",
            "  \"d_model\": 1024,\n",
            "  \"decoder_start_token_id\": 0,\n",
            "  \"dropout_rate\": 0.1,\n",
            "  \"eos_token_id\": 1,\n",
            "  \"feed_forward_proj\": \"gated-gelu\",\n",
            "  \"initializer_factor\": 1.0,\n",
            "  \"is_encoder_decoder\": true,\n",
            "  \"layer_norm_epsilon\": 1e-06,\n",
            "  \"model_type\": \"t5\",\n",
            "  \"n_positions\": 512,\n",
            "  \"num_decoder_layers\": 24,\n",
            "  \"num_heads\": 16,\n",
            "  \"num_layers\": 24,\n",
            "  \"output_past\": true,\n",
            "  \"pad_token_id\": 0,\n",
            "  \"relative_attention_max_distance\": 128,\n",
            "  \"relative_attention_num_buckets\": 32,\n",
            "  \"tie_word_embeddings\": false,\n",
            "  \"torch_dtype\": \"float32\",\n",
            "  \"transformers_version\": \"4.16.0\",\n",
            "  \"use_cache\": true,\n",
            "  \"vocab_size\": 32128\n",
            "}\n",
            "\n",
            "loading configuration file T5_BIO2/config.json\n",
            "Model config T5Config {\n",
            "  \"_name_or_path\": \"T5_BIO2\",\n",
            "  \"architectures\": [\n",
            "    \"T5ForConditionalGeneration\"\n",
            "  ],\n",
            "  \"d_ff\": 2816,\n",
            "  \"d_kv\": 64,\n",
            "  \"d_model\": 1024,\n",
            "  \"decoder_start_token_id\": 0,\n",
            "  \"dropout_rate\": 0.1,\n",
            "  \"eos_token_id\": 1,\n",
            "  \"feed_forward_proj\": \"gated-gelu\",\n",
            "  \"initializer_factor\": 1.0,\n",
            "  \"is_encoder_decoder\": true,\n",
            "  \"layer_norm_epsilon\": 1e-06,\n",
            "  \"model_type\": \"t5\",\n",
            "  \"n_positions\": 512,\n",
            "  \"num_decoder_layers\": 24,\n",
            "  \"num_heads\": 16,\n",
            "  \"num_layers\": 24,\n",
            "  \"output_past\": true,\n",
            "  \"pad_token_id\": 0,\n",
            "  \"relative_attention_max_distance\": 128,\n",
            "  \"relative_attention_num_buckets\": 32,\n",
            "  \"tie_word_embeddings\": false,\n",
            "  \"torch_dtype\": \"float32\",\n",
            "  \"transformers_version\": \"4.16.0\",\n",
            "  \"use_cache\": true,\n",
            "  \"vocab_size\": 32128\n",
            "}\n",
            "\n",
            "loading weights file T5_BIO2/pytorch_model.bin\n",
            "All model checkpoint weights were used when initializing T5ForConditionalGeneration.\n",
            "\n",
            "All the weights of T5ForConditionalGeneration were initialized from the model checkpoint at T5_BIO2.\n",
            "If your task is similar to the task the model of the checkpoint was trained on, you can already use T5ForConditionalGeneration for predictions without further training.\n",
            "Didn't find file T5_BIO2/tokenizer.json. We won't load it.\n",
            "Didn't find file T5_BIO2/added_tokens.json. We won't load it.\n",
            "loading file T5_BIO2/spiece.model\n",
            "loading file None\n",
            "loading file None\n",
            "loading file T5_BIO2/special_tokens_map.json\n",
            "loading file T5_BIO2/tokenizer_config.json\n",
            "Your max_length is set to 1024, but you input_length is only 141. You might consider decreasing max_length manually, e.g. summarizer('...', max_length=70)\n",
            "Your max_length is set to 1024, but you input_length is only 512. You might consider decreasing max_length manually, e.g. summarizer('...', max_length=256)\n"
          ]
        },
        {
          "name": "stdout",
          "output_type": "stream",
          "text": [
            "Generated summary for Question Number 1 saved to system5(2)/task1_englishSyssum1.txt\n"
          ]
        },
        {
          "name": "stderr",
          "output_type": "stream",
          "text": [
            "Your max_length is set to 1024, but you input_length is only 140. You might consider decreasing max_length manually, e.g. summarizer('...', max_length=70)\n"
          ]
        },
        {
          "name": "stdout",
          "output_type": "stream",
          "text": [
            "Generated summary for Question Number 2 saved to system5(2)/task2_englishSyssum2.txt\n"
          ]
        },
        {
          "name": "stderr",
          "output_type": "stream",
          "text": [
            "Your max_length is set to 1024, but you input_length is only 512. You might consider decreasing max_length manually, e.g. summarizer('...', max_length=256)\n"
          ]
        },
        {
          "name": "stdout",
          "output_type": "stream",
          "text": [
            "Generated summary for Question Number 3 saved to system5(2)/task3_englishSyssum3.txt\n"
          ]
        },
        {
          "name": "stderr",
          "output_type": "stream",
          "text": [
            "Your max_length is set to 1024, but you input_length is only 102. You might consider decreasing max_length manually, e.g. summarizer('...', max_length=51)\n"
          ]
        },
        {
          "name": "stdout",
          "output_type": "stream",
          "text": [
            "Generated summary for Question Number 4 saved to system5(2)/task4_englishSyssum4.txt\n"
          ]
        },
        {
          "name": "stderr",
          "output_type": "stream",
          "text": [
            "Your max_length is set to 1024, but you input_length is only 348. You might consider decreasing max_length manually, e.g. summarizer('...', max_length=174)\n"
          ]
        },
        {
          "name": "stdout",
          "output_type": "stream",
          "text": [
            "Generated summary for Question Number 5 saved to system5(2)/task5_englishSyssum5.txt\n"
          ]
        },
        {
          "name": "stderr",
          "output_type": "stream",
          "text": [
            "Your max_length is set to 1024, but you input_length is only 183. You might consider decreasing max_length manually, e.g. summarizer('...', max_length=91)\n"
          ]
        },
        {
          "name": "stdout",
          "output_type": "stream",
          "text": [
            "Generated summary for Question Number 6 saved to system5(2)/task6_englishSyssum6.txt\n"
          ]
        },
        {
          "name": "stderr",
          "output_type": "stream",
          "text": [
            "Your max_length is set to 1024, but you input_length is only 309. You might consider decreasing max_length manually, e.g. summarizer('...', max_length=154)\n"
          ]
        },
        {
          "name": "stdout",
          "output_type": "stream",
          "text": [
            "Generated summary for Question Number 7 saved to system5(2)/task7_englishSyssum7.txt\n"
          ]
        },
        {
          "name": "stderr",
          "output_type": "stream",
          "text": [
            "Your max_length is set to 1024, but you input_length is only 512. You might consider decreasing max_length manually, e.g. summarizer('...', max_length=256)\n"
          ]
        },
        {
          "name": "stdout",
          "output_type": "stream",
          "text": [
            "Generated summary for Question Number 8 saved to system5(2)/task8_englishSyssum8.txt\n"
          ]
        },
        {
          "name": "stderr",
          "output_type": "stream",
          "text": [
            "Your max_length is set to 1024, but you input_length is only 112. You might consider decreasing max_length manually, e.g. summarizer('...', max_length=56)\n"
          ]
        },
        {
          "name": "stdout",
          "output_type": "stream",
          "text": [
            "Generated summary for Question Number 9 saved to system5(2)/task9_englishSyssum9.txt\n"
          ]
        },
        {
          "name": "stderr",
          "output_type": "stream",
          "text": [
            "Your max_length is set to 1024, but you input_length is only 270. You might consider decreasing max_length manually, e.g. summarizer('...', max_length=135)\n"
          ]
        },
        {
          "name": "stdout",
          "output_type": "stream",
          "text": [
            "Generated summary for Question Number 10 saved to system5(2)/task10_englishSyssum10.txt\n"
          ]
        },
        {
          "name": "stderr",
          "output_type": "stream",
          "text": [
            "Your max_length is set to 1024, but you input_length is only 512. You might consider decreasing max_length manually, e.g. summarizer('...', max_length=256)\n"
          ]
        },
        {
          "name": "stdout",
          "output_type": "stream",
          "text": [
            "Generated summary for Question Number 11 saved to system5(2)/task11_englishSyssum11.txt\n"
          ]
        },
        {
          "name": "stderr",
          "output_type": "stream",
          "text": [
            "Your max_length is set to 1024, but you input_length is only 129. You might consider decreasing max_length manually, e.g. summarizer('...', max_length=64)\n"
          ]
        },
        {
          "name": "stdout",
          "output_type": "stream",
          "text": [
            "Generated summary for Question Number 12 saved to system5(2)/task12_englishSyssum12.txt\n"
          ]
        },
        {
          "name": "stderr",
          "output_type": "stream",
          "text": [
            "Your max_length is set to 1024, but you input_length is only 512. You might consider decreasing max_length manually, e.g. summarizer('...', max_length=256)\n"
          ]
        },
        {
          "name": "stdout",
          "output_type": "stream",
          "text": [
            "Generated summary for Question Number 13 saved to system5(2)/task13_englishSyssum13.txt\n"
          ]
        },
        {
          "name": "stderr",
          "output_type": "stream",
          "text": [
            "Your max_length is set to 1024, but you input_length is only 65. You might consider decreasing max_length manually, e.g. summarizer('...', max_length=32)\n"
          ]
        },
        {
          "name": "stdout",
          "output_type": "stream",
          "text": [
            "Generated summary for Question Number 14 saved to system5(2)/task14_englishSyssum14.txt\n"
          ]
        },
        {
          "name": "stderr",
          "output_type": "stream",
          "text": [
            "Your max_length is set to 1024, but you input_length is only 195. You might consider decreasing max_length manually, e.g. summarizer('...', max_length=97)\n"
          ]
        },
        {
          "name": "stdout",
          "output_type": "stream",
          "text": [
            "Generated summary for Question Number 15 saved to system5(2)/task15_englishSyssum15.txt\n"
          ]
        },
        {
          "name": "stderr",
          "output_type": "stream",
          "text": [
            "Your max_length is set to 1024, but you input_length is only 337. You might consider decreasing max_length manually, e.g. summarizer('...', max_length=168)\n"
          ]
        },
        {
          "name": "stdout",
          "output_type": "stream",
          "text": [
            "Generated summary for Question Number 16 saved to system5(2)/task16_englishSyssum16.txt\n"
          ]
        },
        {
          "name": "stderr",
          "output_type": "stream",
          "text": [
            "Your max_length is set to 1024, but you input_length is only 106. You might consider decreasing max_length manually, e.g. summarizer('...', max_length=53)\n"
          ]
        },
        {
          "name": "stdout",
          "output_type": "stream",
          "text": [
            "Generated summary for Question Number 17 saved to system5(2)/task17_englishSyssum17.txt\n"
          ]
        },
        {
          "name": "stderr",
          "output_type": "stream",
          "text": [
            "Your max_length is set to 1024, but you input_length is only 362. You might consider decreasing max_length manually, e.g. summarizer('...', max_length=181)\n"
          ]
        },
        {
          "name": "stdout",
          "output_type": "stream",
          "text": [
            "Generated summary for Question Number 18 saved to system5(2)/task18_englishSyssum18.txt\n"
          ]
        },
        {
          "name": "stderr",
          "output_type": "stream",
          "text": [
            "Your max_length is set to 1024, but you input_length is only 142. You might consider decreasing max_length manually, e.g. summarizer('...', max_length=71)\n"
          ]
        },
        {
          "name": "stdout",
          "output_type": "stream",
          "text": [
            "Generated summary for Question Number 19 saved to system5(2)/task19_englishSyssum19.txt\n"
          ]
        },
        {
          "name": "stderr",
          "output_type": "stream",
          "text": [
            "Your max_length is set to 1024, but you input_length is only 179. You might consider decreasing max_length manually, e.g. summarizer('...', max_length=89)\n"
          ]
        },
        {
          "name": "stdout",
          "output_type": "stream",
          "text": [
            "Generated summary for Question Number 20 saved to system5(2)/task20_englishSyssum20.txt\n"
          ]
        },
        {
          "name": "stderr",
          "output_type": "stream",
          "text": [
            "Your max_length is set to 1024, but you input_length is only 131. You might consider decreasing max_length manually, e.g. summarizer('...', max_length=65)\n"
          ]
        },
        {
          "name": "stdout",
          "output_type": "stream",
          "text": [
            "Generated summary for Question Number 21 saved to system5(2)/task21_englishSyssum21.txt\n"
          ]
        },
        {
          "name": "stderr",
          "output_type": "stream",
          "text": [
            "Your max_length is set to 1024, but you input_length is only 512. You might consider decreasing max_length manually, e.g. summarizer('...', max_length=256)\n"
          ]
        },
        {
          "name": "stdout",
          "output_type": "stream",
          "text": [
            "Generated summary for Question Number 22 saved to system5(2)/task22_englishSyssum22.txt\n"
          ]
        },
        {
          "name": "stderr",
          "output_type": "stream",
          "text": [
            "Your max_length is set to 1024, but you input_length is only 70. You might consider decreasing max_length manually, e.g. summarizer('...', max_length=35)\n"
          ]
        },
        {
          "name": "stdout",
          "output_type": "stream",
          "text": [
            "Generated summary for Question Number 23 saved to system5(2)/task23_englishSyssum23.txt\n"
          ]
        },
        {
          "name": "stderr",
          "output_type": "stream",
          "text": [
            "Your max_length is set to 1024, but you input_length is only 512. You might consider decreasing max_length manually, e.g. summarizer('...', max_length=256)\n"
          ]
        },
        {
          "name": "stdout",
          "output_type": "stream",
          "text": [
            "Generated summary for Question Number 24 saved to system5(2)/task24_englishSyssum24.txt\n"
          ]
        },
        {
          "name": "stderr",
          "output_type": "stream",
          "text": [
            "Your max_length is set to 1024, but you input_length is only 110. You might consider decreasing max_length manually, e.g. summarizer('...', max_length=55)\n"
          ]
        },
        {
          "name": "stdout",
          "output_type": "stream",
          "text": [
            "Generated summary for Question Number 25 saved to system5(2)/task25_englishSyssum25.txt\n"
          ]
        },
        {
          "name": "stderr",
          "output_type": "stream",
          "text": [
            "Your max_length is set to 1024, but you input_length is only 512. You might consider decreasing max_length manually, e.g. summarizer('...', max_length=256)\n"
          ]
        },
        {
          "name": "stdout",
          "output_type": "stream",
          "text": [
            "Generated summary for Question Number 26 saved to system5(2)/task26_englishSyssum26.txt\n"
          ]
        },
        {
          "name": "stderr",
          "output_type": "stream",
          "text": [
            "Your max_length is set to 1024, but you input_length is only 103. You might consider decreasing max_length manually, e.g. summarizer('...', max_length=51)\n"
          ]
        },
        {
          "name": "stdout",
          "output_type": "stream",
          "text": [
            "Generated summary for Question Number 27 saved to system5(2)/task27_englishSyssum27.txt\n"
          ]
        },
        {
          "name": "stderr",
          "output_type": "stream",
          "text": [
            "Your max_length is set to 1024, but you input_length is only 512. You might consider decreasing max_length manually, e.g. summarizer('...', max_length=256)\n"
          ]
        },
        {
          "name": "stdout",
          "output_type": "stream",
          "text": [
            "Generated summary for Question Number 28 saved to system5(2)/task28_englishSyssum28.txt\n"
          ]
        },
        {
          "name": "stderr",
          "output_type": "stream",
          "text": [
            "Your max_length is set to 1024, but you input_length is only 219. You might consider decreasing max_length manually, e.g. summarizer('...', max_length=109)\n"
          ]
        },
        {
          "name": "stdout",
          "output_type": "stream",
          "text": [
            "Generated summary for Question Number 29 saved to system5(2)/task29_englishSyssum29.txt\n"
          ]
        },
        {
          "name": "stderr",
          "output_type": "stream",
          "text": [
            "Your max_length is set to 1024, but you input_length is only 512. You might consider decreasing max_length manually, e.g. summarizer('...', max_length=256)\n"
          ]
        },
        {
          "name": "stdout",
          "output_type": "stream",
          "text": [
            "Generated summary for Question Number 30 saved to system5(2)/task30_englishSyssum30.txt\n"
          ]
        },
        {
          "name": "stderr",
          "output_type": "stream",
          "text": [
            "Your max_length is set to 1024, but you input_length is only 46. You might consider decreasing max_length manually, e.g. summarizer('...', max_length=23)\n"
          ]
        },
        {
          "name": "stdout",
          "output_type": "stream",
          "text": [
            "Generated summary for Question Number 31 saved to system5(2)/task31_englishSyssum31.txt\n"
          ]
        },
        {
          "name": "stderr",
          "output_type": "stream",
          "text": [
            "Your max_length is set to 1024, but you input_length is only 512. You might consider decreasing max_length manually, e.g. summarizer('...', max_length=256)\n"
          ]
        },
        {
          "name": "stdout",
          "output_type": "stream",
          "text": [
            "Generated summary for Question Number 32 saved to system5(2)/task32_englishSyssum32.txt\n"
          ]
        },
        {
          "name": "stderr",
          "output_type": "stream",
          "text": [
            "Your max_length is set to 1024, but you input_length is only 74. You might consider decreasing max_length manually, e.g. summarizer('...', max_length=37)\n"
          ]
        },
        {
          "name": "stdout",
          "output_type": "stream",
          "text": [
            "Generated summary for Question Number 33 saved to system5(2)/task33_englishSyssum33.txt\n"
          ]
        },
        {
          "name": "stderr",
          "output_type": "stream",
          "text": [
            "Your max_length is set to 1024, but you input_length is only 512. You might consider decreasing max_length manually, e.g. summarizer('...', max_length=256)\n"
          ]
        },
        {
          "name": "stdout",
          "output_type": "stream",
          "text": [
            "Generated summary for Question Number 34 saved to system5(2)/task34_englishSyssum34.txt\n"
          ]
        },
        {
          "name": "stderr",
          "output_type": "stream",
          "text": [
            "Your max_length is set to 1024, but you input_length is only 58. You might consider decreasing max_length manually, e.g. summarizer('...', max_length=29)\n"
          ]
        },
        {
          "name": "stdout",
          "output_type": "stream",
          "text": [
            "Generated summary for Question Number 35 saved to system5(2)/task35_englishSyssum35.txt\n"
          ]
        },
        {
          "name": "stderr",
          "output_type": "stream",
          "text": [
            "Your max_length is set to 1024, but you input_length is only 512. You might consider decreasing max_length manually, e.g. summarizer('...', max_length=256)\n"
          ]
        },
        {
          "name": "stdout",
          "output_type": "stream",
          "text": [
            "Generated summary for Question Number 36 saved to system5(2)/task36_englishSyssum36.txt\n"
          ]
        },
        {
          "name": "stderr",
          "output_type": "stream",
          "text": [
            "Your max_length is set to 1024, but you input_length is only 102. You might consider decreasing max_length manually, e.g. summarizer('...', max_length=51)\n"
          ]
        },
        {
          "name": "stdout",
          "output_type": "stream",
          "text": [
            "Generated summary for Question Number 37 saved to system5(2)/task37_englishSyssum37.txt\n"
          ]
        },
        {
          "name": "stderr",
          "output_type": "stream",
          "text": [
            "Your max_length is set to 1024, but you input_length is only 166. You might consider decreasing max_length manually, e.g. summarizer('...', max_length=83)\n"
          ]
        },
        {
          "name": "stdout",
          "output_type": "stream",
          "text": [
            "Generated summary for Question Number 38 saved to system5(2)/task38_englishSyssum38.txt\n"
          ]
        },
        {
          "name": "stderr",
          "output_type": "stream",
          "text": [
            "Your max_length is set to 1024, but you input_length is only 78. You might consider decreasing max_length manually, e.g. summarizer('...', max_length=39)\n"
          ]
        },
        {
          "name": "stdout",
          "output_type": "stream",
          "text": [
            "Generated summary for Question Number 39 saved to system5(2)/task39_englishSyssum39.txt\n"
          ]
        },
        {
          "name": "stderr",
          "output_type": "stream",
          "text": [
            "Your max_length is set to 1024, but you input_length is only 512. You might consider decreasing max_length manually, e.g. summarizer('...', max_length=256)\n"
          ]
        },
        {
          "name": "stdout",
          "output_type": "stream",
          "text": [
            "Generated summary for Question Number 40 saved to system5(2)/task40_englishSyssum40.txt\n"
          ]
        },
        {
          "name": "stderr",
          "output_type": "stream",
          "text": [
            "Your max_length is set to 1024, but you input_length is only 256. You might consider decreasing max_length manually, e.g. summarizer('...', max_length=128)\n"
          ]
        },
        {
          "name": "stdout",
          "output_type": "stream",
          "text": [
            "Generated summary for Question Number 41 saved to system5(2)/task41_englishSyssum41.txt\n"
          ]
        },
        {
          "name": "stderr",
          "output_type": "stream",
          "text": [
            "Your max_length is set to 1024, but you input_length is only 512. You might consider decreasing max_length manually, e.g. summarizer('...', max_length=256)\n"
          ]
        },
        {
          "name": "stdout",
          "output_type": "stream",
          "text": [
            "Generated summary for Question Number 42 saved to system5(2)/task42_englishSyssum42.txt\n"
          ]
        },
        {
          "name": "stderr",
          "output_type": "stream",
          "text": [
            "Your max_length is set to 1024, but you input_length is only 79. You might consider decreasing max_length manually, e.g. summarizer('...', max_length=39)\n"
          ]
        },
        {
          "name": "stdout",
          "output_type": "stream",
          "text": [
            "Generated summary for Question Number 43 saved to system5(2)/task43_englishSyssum43.txt\n"
          ]
        },
        {
          "name": "stderr",
          "output_type": "stream",
          "text": [
            "Your max_length is set to 1024, but you input_length is only 278. You might consider decreasing max_length manually, e.g. summarizer('...', max_length=139)\n"
          ]
        },
        {
          "name": "stdout",
          "output_type": "stream",
          "text": [
            "Generated summary for Question Number 44 saved to system5(2)/task44_englishSyssum44.txt\n"
          ]
        },
        {
          "name": "stderr",
          "output_type": "stream",
          "text": [
            "Your max_length is set to 1024, but you input_length is only 218. You might consider decreasing max_length manually, e.g. summarizer('...', max_length=109)\n"
          ]
        },
        {
          "name": "stdout",
          "output_type": "stream",
          "text": [
            "Generated summary for Question Number 45 saved to system5(2)/task45_englishSyssum45.txt\n"
          ]
        },
        {
          "name": "stderr",
          "output_type": "stream",
          "text": [
            "Your max_length is set to 1024, but you input_length is only 512. You might consider decreasing max_length manually, e.g. summarizer('...', max_length=256)\n"
          ]
        },
        {
          "name": "stdout",
          "output_type": "stream",
          "text": [
            "Generated summary for Question Number 46 saved to system5(2)/task46_englishSyssum46.txt\n"
          ]
        },
        {
          "name": "stderr",
          "output_type": "stream",
          "text": [
            "Your max_length is set to 1024, but you input_length is only 97. You might consider decreasing max_length manually, e.g. summarizer('...', max_length=48)\n"
          ]
        },
        {
          "name": "stdout",
          "output_type": "stream",
          "text": [
            "Generated summary for Question Number 47 saved to system5(2)/task47_englishSyssum47.txt\n"
          ]
        },
        {
          "name": "stderr",
          "output_type": "stream",
          "text": [
            "Your max_length is set to 1024, but you input_length is only 512. You might consider decreasing max_length manually, e.g. summarizer('...', max_length=256)\n"
          ]
        },
        {
          "name": "stdout",
          "output_type": "stream",
          "text": [
            "Generated summary for Question Number 48 saved to system5(2)/task48_englishSyssum48.txt\n"
          ]
        },
        {
          "name": "stderr",
          "output_type": "stream",
          "text": [
            "Your max_length is set to 1024, but you input_length is only 185. You might consider decreasing max_length manually, e.g. summarizer('...', max_length=92)\n"
          ]
        },
        {
          "name": "stdout",
          "output_type": "stream",
          "text": [
            "Generated summary for Question Number 49 saved to system5(2)/task49_englishSyssum49.txt\n"
          ]
        },
        {
          "name": "stderr",
          "output_type": "stream",
          "text": [
            "Your max_length is set to 1024, but you input_length is only 263. You might consider decreasing max_length manually, e.g. summarizer('...', max_length=131)\n"
          ]
        },
        {
          "name": "stdout",
          "output_type": "stream",
          "text": [
            "Generated summary for Question Number 50 saved to system5(2)/task50_englishSyssum50.txt\n"
          ]
        },
        {
          "name": "stderr",
          "output_type": "stream",
          "text": [
            "Your max_length is set to 1024, but you input_length is only 77. You might consider decreasing max_length manually, e.g. summarizer('...', max_length=38)\n"
          ]
        },
        {
          "name": "stdout",
          "output_type": "stream",
          "text": [
            "Generated summary for Question Number 51 saved to system5(2)/task51_englishSyssum51.txt\n"
          ]
        },
        {
          "name": "stderr",
          "output_type": "stream",
          "text": [
            "Your max_length is set to 1024, but you input_length is only 512. You might consider decreasing max_length manually, e.g. summarizer('...', max_length=256)\n"
          ]
        },
        {
          "name": "stdout",
          "output_type": "stream",
          "text": [
            "Generated summary for Question Number 52 saved to system5(2)/task52_englishSyssum52.txt\n"
          ]
        },
        {
          "name": "stderr",
          "output_type": "stream",
          "text": [
            "Your max_length is set to 1024, but you input_length is only 84. You might consider decreasing max_length manually, e.g. summarizer('...', max_length=42)\n"
          ]
        },
        {
          "name": "stdout",
          "output_type": "stream",
          "text": [
            "Generated summary for Question Number 53 saved to system5(2)/task53_englishSyssum53.txt\n"
          ]
        },
        {
          "name": "stderr",
          "output_type": "stream",
          "text": [
            "Your max_length is set to 1024, but you input_length is only 512. You might consider decreasing max_length manually, e.g. summarizer('...', max_length=256)\n"
          ]
        },
        {
          "name": "stdout",
          "output_type": "stream",
          "text": [
            "Generated summary for Question Number 54 saved to system5(2)/task54_englishSyssum54.txt\n"
          ]
        },
        {
          "name": "stderr",
          "output_type": "stream",
          "text": [
            "Your max_length is set to 1024, but you input_length is only 52. You might consider decreasing max_length manually, e.g. summarizer('...', max_length=26)\n"
          ]
        },
        {
          "name": "stdout",
          "output_type": "stream",
          "text": [
            "Generated summary for Question Number 55 saved to system5(2)/task55_englishSyssum55.txt\n"
          ]
        },
        {
          "name": "stderr",
          "output_type": "stream",
          "text": [
            "Your max_length is set to 1024, but you input_length is only 512. You might consider decreasing max_length manually, e.g. summarizer('...', max_length=256)\n"
          ]
        },
        {
          "name": "stdout",
          "output_type": "stream",
          "text": [
            "Generated summary for Question Number 56 saved to system5(2)/task56_englishSyssum56.txt\n"
          ]
        },
        {
          "name": "stderr",
          "output_type": "stream",
          "text": [
            "Your max_length is set to 1024, but you input_length is only 72. You might consider decreasing max_length manually, e.g. summarizer('...', max_length=36)\n"
          ]
        },
        {
          "name": "stdout",
          "output_type": "stream",
          "text": [
            "Generated summary for Question Number 57 saved to system5(2)/task57_englishSyssum57.txt\n"
          ]
        },
        {
          "name": "stderr",
          "output_type": "stream",
          "text": [
            "Your max_length is set to 1024, but you input_length is only 346. You might consider decreasing max_length manually, e.g. summarizer('...', max_length=173)\n"
          ]
        },
        {
          "name": "stdout",
          "output_type": "stream",
          "text": [
            "Generated summary for Question Number 58 saved to system5(2)/task58_englishSyssum58.txt\n"
          ]
        },
        {
          "name": "stderr",
          "output_type": "stream",
          "text": [
            "Your max_length is set to 1024, but you input_length is only 215. You might consider decreasing max_length manually, e.g. summarizer('...', max_length=107)\n"
          ]
        },
        {
          "name": "stdout",
          "output_type": "stream",
          "text": [
            "Generated summary for Question Number 59 saved to system5(2)/task59_englishSyssum59.txt\n"
          ]
        },
        {
          "name": "stderr",
          "output_type": "stream",
          "text": [
            "Your max_length is set to 1024, but you input_length is only 69. You might consider decreasing max_length manually, e.g. summarizer('...', max_length=34)\n"
          ]
        },
        {
          "name": "stdout",
          "output_type": "stream",
          "text": [
            "Generated summary for Question Number 60 saved to system5(2)/task60_englishSyssum60.txt\n"
          ]
        },
        {
          "name": "stderr",
          "output_type": "stream",
          "text": [
            "Your max_length is set to 1024, but you input_length is only 433. You might consider decreasing max_length manually, e.g. summarizer('...', max_length=216)\n"
          ]
        },
        {
          "name": "stdout",
          "output_type": "stream",
          "text": [
            "Generated summary for Question Number 61 saved to system5(2)/task61_englishSyssum61.txt\n"
          ]
        },
        {
          "name": "stderr",
          "output_type": "stream",
          "text": [
            "Your max_length is set to 1024, but you input_length is only 512. You might consider decreasing max_length manually, e.g. summarizer('...', max_length=256)\n"
          ]
        },
        {
          "name": "stdout",
          "output_type": "stream",
          "text": [
            "Generated summary for Question Number 62 saved to system5(2)/task62_englishSyssum62.txt\n"
          ]
        },
        {
          "name": "stderr",
          "output_type": "stream",
          "text": [
            "Your max_length is set to 1024, but you input_length is only 107. You might consider decreasing max_length manually, e.g. summarizer('...', max_length=53)\n"
          ]
        },
        {
          "name": "stdout",
          "output_type": "stream",
          "text": [
            "Generated summary for Question Number 63 saved to system5(2)/task63_englishSyssum63.txt\n"
          ]
        },
        {
          "name": "stderr",
          "output_type": "stream",
          "text": [
            "Your max_length is set to 1024, but you input_length is only 512. You might consider decreasing max_length manually, e.g. summarizer('...', max_length=256)\n"
          ]
        },
        {
          "name": "stdout",
          "output_type": "stream",
          "text": [
            "Generated summary for Question Number 64 saved to system5(2)/task64_englishSyssum64.txt\n"
          ]
        },
        {
          "name": "stderr",
          "output_type": "stream",
          "text": [
            "Your max_length is set to 1024, but you input_length is only 178. You might consider decreasing max_length manually, e.g. summarizer('...', max_length=89)\n"
          ]
        },
        {
          "name": "stdout",
          "output_type": "stream",
          "text": [
            "Generated summary for Question Number 65 saved to system5(2)/task65_englishSyssum65.txt\n"
          ]
        },
        {
          "name": "stderr",
          "output_type": "stream",
          "text": [
            "Your max_length is set to 1024, but you input_length is only 512. You might consider decreasing max_length manually, e.g. summarizer('...', max_length=256)\n"
          ]
        },
        {
          "name": "stdout",
          "output_type": "stream",
          "text": [
            "Generated summary for Question Number 66 saved to system5(2)/task66_englishSyssum66.txt\n"
          ]
        },
        {
          "name": "stderr",
          "output_type": "stream",
          "text": [
            "Your max_length is set to 1024, but you input_length is only 64. You might consider decreasing max_length manually, e.g. summarizer('...', max_length=32)\n"
          ]
        },
        {
          "name": "stdout",
          "output_type": "stream",
          "text": [
            "Generated summary for Question Number 67 saved to system5(2)/task67_englishSyssum67.txt\n"
          ]
        },
        {
          "name": "stderr",
          "output_type": "stream",
          "text": [
            "Your max_length is set to 1024, but you input_length is only 512. You might consider decreasing max_length manually, e.g. summarizer('...', max_length=256)\n"
          ]
        },
        {
          "name": "stdout",
          "output_type": "stream",
          "text": [
            "Generated summary for Question Number 68 saved to system5(2)/task68_englishSyssum68.txt\n"
          ]
        },
        {
          "name": "stderr",
          "output_type": "stream",
          "text": [
            "Your max_length is set to 1024, but you input_length is only 247. You might consider decreasing max_length manually, e.g. summarizer('...', max_length=123)\n"
          ]
        },
        {
          "name": "stdout",
          "output_type": "stream",
          "text": [
            "Generated summary for Question Number 69 saved to system5(2)/task69_englishSyssum69.txt\n"
          ]
        },
        {
          "name": "stderr",
          "output_type": "stream",
          "text": [
            "Your max_length is set to 1024, but you input_length is only 512. You might consider decreasing max_length manually, e.g. summarizer('...', max_length=256)\n"
          ]
        },
        {
          "name": "stdout",
          "output_type": "stream",
          "text": [
            "Generated summary for Question Number 70 saved to system5(2)/task70_englishSyssum70.txt\n"
          ]
        },
        {
          "name": "stderr",
          "output_type": "stream",
          "text": [
            "Your max_length is set to 1024, but you input_length is only 108. You might consider decreasing max_length manually, e.g. summarizer('...', max_length=54)\n"
          ]
        },
        {
          "name": "stdout",
          "output_type": "stream",
          "text": [
            "Generated summary for Question Number 71 saved to system5(2)/task71_englishSyssum71.txt\n"
          ]
        },
        {
          "name": "stderr",
          "output_type": "stream",
          "text": [
            "Your max_length is set to 1024, but you input_length is only 196. You might consider decreasing max_length manually, e.g. summarizer('...', max_length=98)\n"
          ]
        },
        {
          "name": "stdout",
          "output_type": "stream",
          "text": [
            "Generated summary for Question Number 72 saved to system5(2)/task72_englishSyssum72.txt\n"
          ]
        },
        {
          "name": "stderr",
          "output_type": "stream",
          "text": [
            "Your max_length is set to 1024, but you input_length is only 272. You might consider decreasing max_length manually, e.g. summarizer('...', max_length=136)\n"
          ]
        },
        {
          "name": "stdout",
          "output_type": "stream",
          "text": [
            "Generated summary for Question Number 73 saved to system5(2)/task73_englishSyssum73.txt\n"
          ]
        },
        {
          "name": "stderr",
          "output_type": "stream",
          "text": [
            "Your max_length is set to 1024, but you input_length is only 512. You might consider decreasing max_length manually, e.g. summarizer('...', max_length=256)\n"
          ]
        },
        {
          "name": "stdout",
          "output_type": "stream",
          "text": [
            "Generated summary for Question Number 74 saved to system5(2)/task74_englishSyssum74.txt\n"
          ]
        },
        {
          "name": "stderr",
          "output_type": "stream",
          "text": [
            "Your max_length is set to 1024, but you input_length is only 365. You might consider decreasing max_length manually, e.g. summarizer('...', max_length=182)\n"
          ]
        },
        {
          "name": "stdout",
          "output_type": "stream",
          "text": [
            "Generated summary for Question Number 75 saved to system5(2)/task75_englishSyssum75.txt\n"
          ]
        },
        {
          "name": "stderr",
          "output_type": "stream",
          "text": [
            "Your max_length is set to 1024, but you input_length is only 145. You might consider decreasing max_length manually, e.g. summarizer('...', max_length=72)\n"
          ]
        },
        {
          "name": "stdout",
          "output_type": "stream",
          "text": [
            "Generated summary for Question Number 76 saved to system5(2)/task76_englishSyssum76.txt\n"
          ]
        },
        {
          "name": "stderr",
          "output_type": "stream",
          "text": [
            "Your max_length is set to 1024, but you input_length is only 512. You might consider decreasing max_length manually, e.g. summarizer('...', max_length=256)\n"
          ]
        },
        {
          "name": "stdout",
          "output_type": "stream",
          "text": [
            "Generated summary for Question Number 77 saved to system5(2)/task77_englishSyssum77.txt\n"
          ]
        },
        {
          "name": "stderr",
          "output_type": "stream",
          "text": [
            "Your max_length is set to 1024, but you input_length is only 512. You might consider decreasing max_length manually, e.g. summarizer('...', max_length=256)\n"
          ]
        },
        {
          "name": "stdout",
          "output_type": "stream",
          "text": [
            "Generated summary for Question Number 78 saved to system5(2)/task78_englishSyssum78.txt\n"
          ]
        },
        {
          "name": "stderr",
          "output_type": "stream",
          "text": [
            "Your max_length is set to 1024, but you input_length is only 349. You might consider decreasing max_length manually, e.g. summarizer('...', max_length=174)\n"
          ]
        },
        {
          "name": "stdout",
          "output_type": "stream",
          "text": [
            "Generated summary for Question Number 79 saved to system5(2)/task79_englishSyssum79.txt\n"
          ]
        },
        {
          "name": "stderr",
          "output_type": "stream",
          "text": [
            "Your max_length is set to 1024, but you input_length is only 512. You might consider decreasing max_length manually, e.g. summarizer('...', max_length=256)\n"
          ]
        },
        {
          "name": "stdout",
          "output_type": "stream",
          "text": [
            "Generated summary for Question Number 80 saved to system5(2)/task80_englishSyssum80.txt\n"
          ]
        },
        {
          "name": "stderr",
          "output_type": "stream",
          "text": [
            "Your max_length is set to 1024, but you input_length is only 512. You might consider decreasing max_length manually, e.g. summarizer('...', max_length=256)\n"
          ]
        },
        {
          "name": "stdout",
          "output_type": "stream",
          "text": [
            "Generated summary for Question Number 81 saved to system5(2)/task81_englishSyssum81.txt\n"
          ]
        },
        {
          "name": "stderr",
          "output_type": "stream",
          "text": [
            "Your max_length is set to 1024, but you input_length is only 148. You might consider decreasing max_length manually, e.g. summarizer('...', max_length=74)\n"
          ]
        },
        {
          "name": "stdout",
          "output_type": "stream",
          "text": [
            "Generated summary for Question Number 82 saved to system5(2)/task82_englishSyssum82.txt\n"
          ]
        },
        {
          "name": "stderr",
          "output_type": "stream",
          "text": [
            "Your max_length is set to 1024, but you input_length is only 512. You might consider decreasing max_length manually, e.g. summarizer('...', max_length=256)\n"
          ]
        },
        {
          "name": "stdout",
          "output_type": "stream",
          "text": [
            "Generated summary for Question Number 83 saved to system5(2)/task83_englishSyssum83.txt\n"
          ]
        },
        {
          "name": "stderr",
          "output_type": "stream",
          "text": [
            "Your max_length is set to 1024, but you input_length is only 127. You might consider decreasing max_length manually, e.g. summarizer('...', max_length=63)\n"
          ]
        },
        {
          "name": "stdout",
          "output_type": "stream",
          "text": [
            "Generated summary for Question Number 84 saved to system5(2)/task84_englishSyssum84.txt\n"
          ]
        },
        {
          "name": "stderr",
          "output_type": "stream",
          "text": [
            "Your max_length is set to 1024, but you input_length is only 141. You might consider decreasing max_length manually, e.g. summarizer('...', max_length=70)\n"
          ]
        },
        {
          "name": "stdout",
          "output_type": "stream",
          "text": [
            "Generated summary for Question Number 85 saved to system5(2)/task85_englishSyssum85.txt\n"
          ]
        },
        {
          "name": "stderr",
          "output_type": "stream",
          "text": [
            "Your max_length is set to 1024, but you input_length is only 512. You might consider decreasing max_length manually, e.g. summarizer('...', max_length=256)\n"
          ]
        },
        {
          "name": "stdout",
          "output_type": "stream",
          "text": [
            "Generated summary for Question Number 86 saved to system5(2)/task86_englishSyssum86.txt\n"
          ]
        },
        {
          "name": "stderr",
          "output_type": "stream",
          "text": [
            "Your max_length is set to 1024, but you input_length is only 512. You might consider decreasing max_length manually, e.g. summarizer('...', max_length=256)\n"
          ]
        },
        {
          "name": "stdout",
          "output_type": "stream",
          "text": [
            "Generated summary for Question Number 87 saved to system5(2)/task87_englishSyssum87.txt\n"
          ]
        },
        {
          "name": "stderr",
          "output_type": "stream",
          "text": [
            "Your max_length is set to 1024, but you input_length is only 177. You might consider decreasing max_length manually, e.g. summarizer('...', max_length=88)\n"
          ]
        },
        {
          "name": "stdout",
          "output_type": "stream",
          "text": [
            "Generated summary for Question Number 88 saved to system5(2)/task88_englishSyssum88.txt\n"
          ]
        },
        {
          "name": "stderr",
          "output_type": "stream",
          "text": [
            "Your max_length is set to 1024, but you input_length is only 512. You might consider decreasing max_length manually, e.g. summarizer('...', max_length=256)\n"
          ]
        },
        {
          "name": "stdout",
          "output_type": "stream",
          "text": [
            "Generated summary for Question Number 89 saved to system5(2)/task89_englishSyssum89.txt\n",
            "Generated summary for Question Number 90 saved to system5(2)/task90_englishSyssum90.txt\n"
          ]
        }
      ],
      "source": [
        "from transformers import pipeline\n",
        "import json\n",
        "import pandas as pd\n",
        "import os\n",
        "\n",
        "# Create a summarization pipeline\n",
        "pipe = pipeline('summarization', model='T5_BIO2')\n",
        "\n",
        "gen_kwargs = {'length_penalty': 0.10, 'num_beams': 8, 'max_length': 1024, 'truncation': True}\n",
        "\n",
        "# Specify the output folder\n",
        "output_folder = 'system5(2)'\n",
        "os.makedirs(output_folder, exist_ok=True)\n",
        "\n",
        "# Open and read the JSON file\n",
        "file_path = '10B5_golden.json'  # Replace with the actual path to your JSON file\n",
        "with open(file_path, 'r') as json_file:\n",
        "    json_data = json.load(json_file)\n",
        "\n",
        "questions_list = []\n",
        "\n",
        "# Extract data from the JSON and create a list of dictionaries\n",
        "for index, question in enumerate(json_data['questions'], start=1):\n",
        "    question_text = question['body']\n",
        "    ideal_answer = question['ideal_answer'][0]\n",
        "\n",
        "    context = \"\"\n",
        "    for snippet in question['snippets']:\n",
        "        snippet_text = snippet['text']\n",
        "        context += snippet_text + \" \"\n",
        "\n",
        "    questions_list.append({\n",
        "        'Question_Number': index,\n",
        "        'Ideal_Answer': ideal_answer,\n",
        "        'Combined_Text': question_text + ' ' + context.strip()\n",
        "    })\n",
        "\n",
        "# Convert the list of dictionaries into a DataFrame\n",
        "df = pd.DataFrame(questions_list)\n",
        "\n",
        "# Loop through the DataFrame\n",
        "for index, row in df.iterrows():\n",
        "    question_number = row['Question_Number']\n",
        "    question_text = row['Combined_Text']\n",
        "\n",
        "    generated_summary = pipe(question_text, **gen_kwargs)[0]['summary_text']\n",
        "\n",
        "    # Save the generated summary to a separate file\n",
        "    output_file_path = f\"{output_folder}/task{question_number}_englishSyssum{question_number}.txt\"\n",
        "    with open(output_file_path, 'w') as output_file:\n",
        "        output_file.write(generated_summary)\n",
        "\n",
        "    print(f\"Generated summary for Question Number {question_number} saved to {output_file_path}\")\n"
      ]
    },
    {
      "cell_type": "code",
      "execution_count": null,
      "id": "341ab007",
      "metadata": {
        "id": "341ab007",
        "outputId": "84c7b44f-215f-48dc-a914-4dd74a7b87c6"
      },
      "outputs": [
        {
          "name": "stdout",
          "output_type": "stream",
          "text": [
            "Folder 'system5(2)' has been zipped.\n"
          ]
        }
      ],
      "source": [
        "import shutil\n",
        "\n",
        "# Zip the 'system' folder\n",
        "shutil.make_archive('system5_2', 'zip', 'system5(2)')\n",
        "\n",
        "print(\"Folder 'system5(2)' has been zipped.\")"
      ]
    },
    {
      "cell_type": "code",
      "execution_count": null,
      "id": "3bc8cf1c",
      "metadata": {
        "id": "3bc8cf1c"
      },
      "outputs": [],
      "source": []
    }
  ],
  "metadata": {
    "kernelspec": {
      "display_name": "Python 3.8 - AzureML",
      "language": "python",
      "name": "python38-azureml"
    },
    "language_info": {
      "codemirror_mode": {
        "name": "ipython",
        "version": 3
      },
      "file_extension": ".py",
      "mimetype": "text/x-python",
      "name": "python",
      "nbconvert_exporter": "python",
      "pygments_lexer": "ipython3",
      "version": "3.8.5"
    },
    "colab": {
      "provenance": []
    }
  },
  "nbformat": 4,
  "nbformat_minor": 5
}